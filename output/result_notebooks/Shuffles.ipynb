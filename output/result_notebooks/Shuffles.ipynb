{
 "cells": [
  {
   "cell_type": "markdown",
   "id": "406d07a2",
   "metadata": {},
   "source": [
    "# Shuffle Variants\n",
    "\n",
    "## Steps:\n",
    "- Generated in ../notebooks/Shuffles.ipynb\n",
    "1. Read in library entries containing \"_shuffle_size\" in description\n",
    "2. Kept all shuffles (size 2, 4, 6, 8, or 10AA spaced every 2AA)\n",
    "3. Identified indices differing from corresponding wildtype tile.\n",
    "4. Used minimum difference and maximum difference as start/end of horizontal line. y = activity of tested tile.\n"
   ]
  },
  {
   "cell_type": "markdown",
   "id": "407d852c-1d4b-42c5-ad22-bdebd1d98bfe",
   "metadata": {},
   "source": [
    "![img](https://raw.githubusercontent.com/sanjanakotha/sog1/refs/heads/main/output/result_notebooks/figures/shuffles/33.png?token=GHSAT0AAAAAAC7ZXTGXM4EXLKRECKHBEXLYZ6EAAJA)\n",
    "\n"
   ]
  },
  {
   "cell_type": "markdown",
   "id": "88f5025f-1d55-4b08-9734-a0d8fe30d96e",
   "metadata": {
    "jp-MarkdownHeadingCollapsed": true
   },
   "source": [
    "---\n",
    "\n",
    "## Results:\n",
    "\n",
    "### Tile 33\n",
    "![localImage](../../output/figures/shuffles/33.png)\n",
    "\n",
    "\n",
    "<p>\n",
    "    <img src=\"../../output/figures/shuffles/33.png\" width=\"220\" />\n",
    "</p>\n",
    "\n",
    "\n",
    "<p>\n",
    "    <img src=\"https://github.com/sanjanakotha/sog1/blob/main/output/figures/shuffles/33.png?raw=true\" width=\"220\" />\n",
    "</p>\n",
    "\n",
    "\n",
    "![localImage](https://raw.githubusercontent.com/sanjanakotha/sog1/main/output/figures/shuffles/33.png)\n",
    "![img](https://raw.githubusercontent.com/sanjanakotha/sog1/main/output/figures/shuffles/33.png)\n",
    "\n",
    "<p>\n",
    "    <img src=\"https://raw.githubusercontent.com/sanjanakotha/sog1/main/output/figures/shuffles/33.png\" width=\"220\" />\n",
    "</p>\n",
    "\n",
    "<p>\n",
    "    <img src=\"https://raw.githubusercontent.com/sanjanakotha/sog1/main/output/figures/shuffles/33.png\" width=\"220\" />\n",
    "</p>"
   ]
  },
  {
   "cell_type": "markdown",
   "id": "f9013a05-f1c2-408c-a82d-588dcd43fb05",
   "metadata": {},
   "source": [
    "### Tile 34: C-terminal end is more sensitive to shuffles.\n",
    "\n",
    "<img src=\"../../output/figures/shuffles/34.png\" alt=\"alt text\" title=\"Title\" width=\"800\">\n"
   ]
  },
  {
   "cell_type": "markdown",
   "id": "6f69b4a7-2d73-4153-ab21-1d1f73a9e415",
   "metadata": {},
   "source": [
    "### Tile 35\n",
    "<img src=\"../../output/figures/shuffles/35.png\" alt=\"alt text\" title=\"Title\" width=\"800\">\n",
    "\n"
   ]
  },
  {
   "cell_type": "markdown",
   "id": "ff1b369f-2e3b-47e5-9a5a-974344aeac70",
   "metadata": {},
   "source": [
    "### Tile 41\n",
    "<img src=\"../../output/figures/shuffles/41.png\" alt=\"alt text\" title=\"Title\" width=\"800\">\n",
    "\n"
   ]
  },
  {
   "cell_type": "markdown",
   "id": "203e1261-d5ab-48b1-83b7-3ca2024ff40c",
   "metadata": {},
   "source": [
    "### Tile 42\n",
    "<img src=\"../../output/figures/shuffles/42.png\" alt=\"alt text\" title=\"Title\" width=\"800\">\n"
   ]
  }
 ],
 "metadata": {
  "kernelspec": {
   "display_name": "Python 3 (ipykernel)",
   "language": "python",
   "name": "python3"
  },
  "language_info": {
   "codemirror_mode": {
    "name": "ipython",
    "version": 3
   },
   "file_extension": ".py",
   "mimetype": "text/x-python",
   "name": "python",
   "nbconvert_exporter": "python",
   "pygments_lexer": "ipython3",
   "version": "3.10.9"
  }
 },
 "nbformat": 4,
 "nbformat_minor": 5
}
