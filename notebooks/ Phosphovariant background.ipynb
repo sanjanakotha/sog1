{
 "cells": [
  {
   "cell_type": "code",
   "execution_count": 1,
   "id": "e8c69751-e529-42f9-b6fd-d206f23323c0",
   "metadata": {},
   "outputs": [],
   "source": [
    "%load_ext autoreload"
   ]
  },
  {
   "cell_type": "code",
   "execution_count": 3,
   "id": "6d71c5da-acb8-4c09-92d3-a91b125d3c47",
   "metadata": {},
   "outputs": [],
   "source": [
    "%autoreload 2\n",
    "%aimport sog1_helpers\n",
    "\n",
    "import pandas as pd\n",
    "import matplotlib.pyplot as plt\n",
    "import seaborn as sns\n",
    "import numpy as np\n",
    "\n",
    "import warnings\n",
    "\n",
    "# Ignore all warnings\n",
    "warnings.filterwarnings('ignore')\n",
    "\n",
    "#plt.rcParams['text.usetex'] = True\n",
    "\n",
    "plt.rcParams['ps.fonttype'] = 42\n",
    "plt.rcParams[\"font.family\"] = \"Helvetica\" #somethings this one doesnt work\n",
    "plt.rcParams['pdf.fonttype'] = 42"
   ]
  },
  {
   "cell_type": "code",
   "execution_count": null,
   "id": "fd630d9e-bf28-4d50-88a3-2c8b4af2ba75",
   "metadata": {},
   "outputs": [],
   "source": []
  }
 ],
 "metadata": {
  "kernelspec": {
   "display_name": "Python 3 (ipykernel)",
   "language": "python",
   "name": "python3"
  },
  "language_info": {
   "codemirror_mode": {
    "name": "ipython",
    "version": 3
   },
   "file_extension": ".py",
   "mimetype": "text/x-python",
   "name": "python",
   "nbconvert_exporter": "python",
   "pygments_lexer": "ipython3",
   "version": "3.10.9"
  }
 },
 "nbformat": 4,
 "nbformat_minor": 5
}
